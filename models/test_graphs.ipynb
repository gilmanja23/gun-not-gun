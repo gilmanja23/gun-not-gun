{
 "cells": [
  {
   "cell_type": "code",
   "execution_count": 1,
   "metadata": {},
   "outputs": [],
   "source": [
    "import os\n",
    "import datetime\n",
    "\n",
    "import IPython\n",
    "import IPython.display\n",
    "import matplotlib as mpl\n",
    "import matplotlib.pyplot as plt\n",
    "import numpy as np\n",
    "import pandas as pd\n",
    "import seaborn as sns\n",
    "import tensorflow as tf\n",
    "import pathlib\n",
    "import PIL"
   ]
  },
  {
   "cell_type": "code",
   "execution_count": 2,
   "metadata": {},
   "outputs": [
    {
     "name": "stdout",
     "output_type": "stream",
     "text": [
      "C:\\Users\\cammi\\Downloads\\gunModel\n"
     ]
    }
   ],
   "source": [
    "dataset_url = \"C:/Users/cammi/Downloads/gunModel/\"\n",
    "data_dir = pathlib.Path(dataset_url)\n",
    "print(data_dir)"
   ]
  },
  {
   "cell_type": "code",
   "execution_count": 3,
   "metadata": {},
   "outputs": [],
   "source": [
    "batch_size = 5000\n",
    "img_height = 112\n",
    "img_width = 112"
   ]
  },
  {
   "cell_type": "code",
   "execution_count": 4,
   "metadata": {},
   "outputs": [
    {
     "name": "stdout",
     "output_type": "stream",
     "text": [
      "Found 159716 files belonging to 2 classes.\n",
      "Using 127773 files for training.\n"
     ]
    }
   ],
   "source": [
    "train_ds = tf.keras.utils.image_dataset_from_directory(\n",
    "  data_dir,\n",
    "  validation_split=0.2,\n",
    "  subset=\"training\",\n",
    "  seed=123,\n",
    "  image_size=(img_height, img_width),\n",
    "  batch_size=batch_size)"
   ]
  },
  {
   "cell_type": "code",
   "execution_count": 5,
   "metadata": {},
   "outputs": [
    {
     "name": "stdout",
     "output_type": "stream",
     "text": [
      "Found 159716 files belonging to 2 classes.\n",
      "Using 31943 files for validation.\n"
     ]
    }
   ],
   "source": [
    "val_ds = tf.keras.utils.image_dataset_from_directory(\n",
    "  data_dir,\n",
    "  validation_split=0.2,\n",
    "  subset=\"validation\",\n",
    "  seed=123,\n",
    "  image_size=(img_height, img_width),\n",
    "  batch_size=batch_size)"
   ]
  },
  {
   "cell_type": "code",
   "execution_count": 6,
   "metadata": {},
   "outputs": [],
   "source": [
    "AUTOTUNE = tf.data.AUTOTUNE\n",
    "\n",
    "train_ds = train_ds.cache().shuffle(1000).prefetch(buffer_size=AUTOTUNE)\n",
    "val_ds = val_ds.cache().prefetch(buffer_size=AUTOTUNE)"
   ]
  },
  {
   "cell_type": "code",
   "execution_count": 7,
   "metadata": {},
   "outputs": [],
   "source": [
    "model1 = tf.keras.models.load_model('../models/model1_inc.h5')"
   ]
  },
  {
   "cell_type": "code",
   "execution_count": 7,
   "metadata": {},
   "outputs": [],
   "source": [
    "model2 = tf.keras.models.load_model('../models/model2.h5')"
   ]
  },
  {
   "cell_type": "code",
   "execution_count": 8,
   "metadata": {},
   "outputs": [],
   "source": [
    "model3 = tf.keras.models.load_model('../models/model3.h5')"
   ]
  },
  {
   "cell_type": "code",
   "execution_count": 9,
   "metadata": {},
   "outputs": [],
   "source": [
    "model4 = tf.keras.models.load_model('../models/model4.h5')"
   ]
  },
  {
   "cell_type": "code",
   "execution_count": 11,
   "metadata": {},
   "outputs": [
    {
     "name": "stdout",
     "output_type": "stream",
     "text": [
      "model 1 Test\n",
      "loss: 0.12660880386829376\n",
      "model acc = 95.30652165412903\n"
     ]
    }
   ],
   "source": [
    "loss,acc = model1.evaluate(train_ds, verbose=0)\n",
    "print('model 1 Train')\n",
    "print(f'loss: {loss}')\n",
    "print(f'model acc = {100*acc}')"
   ]
  },
  {
   "cell_type": "code",
   "execution_count": 10,
   "metadata": {},
   "outputs": [
    {
     "name": "stdout",
     "output_type": "stream",
     "text": [
      "model 1\n",
      "loss: 0.17025291919708252\n",
      "model acc = 93.34439635276794\n"
     ]
    }
   ],
   "source": [
    "loss,acc = model1.evaluate(val_ds, verbose=0)\n",
    "print('model 1 Test')\n",
    "print(f'loss: {loss}')\n",
    "print(f'model acc = {100*acc}')"
   ]
  },
  {
   "cell_type": "code",
   "execution_count": 8,
   "metadata": {},
   "outputs": [
    {
     "ename": "",
     "evalue": "",
     "output_type": "error",
     "traceback": [
      "\u001b[1;31mThe Kernel crashed while executing code in the the current cell or a previous cell. Please review the code in the cell(s) to identify a possible cause of the failure. Click <a href='https://aka.ms/vscodeJupyterKernelCrash'>here</a> for more info. View Jupyter <a href='command:jupyter.viewOutput'>log</a> for further details."
     ]
    }
   ],
   "source": [
    "loss,acc = model2.evaluate(val_ds, verbose=0)\n",
    "print('model 2 Test')\n",
    "print(f'loss: {loss}')\n",
    "print(f'model acc = {100*acc}')"
   ]
  },
  {
   "cell_type": "code",
   "execution_count": null,
   "metadata": {},
   "outputs": [],
   "source": [
    "loss,acc = model2.evaluate(train_ds, verbose=0)\n",
    "print('model 2 Train')\n",
    "print(f'loss: {loss}')\n",
    "print(f'model acc = {100*acc}')"
   ]
  },
  {
   "cell_type": "code",
   "execution_count": 12,
   "metadata": {},
   "outputs": [
    {
     "name": "stdout",
     "output_type": "stream",
     "text": [
      "model 3 Test\n",
      "loss: 0.29166337847709656\n",
      "model acc = 88.0537211894989\n"
     ]
    }
   ],
   "source": [
    "loss,acc = model3.evaluate(val_ds, verbose=0)\n",
    "print('model 3 Test')\n",
    "print(f'loss: {loss}')\n",
    "print(f'model acc = {100*acc}')"
   ]
  },
  {
   "cell_type": "code",
   "execution_count": 13,
   "metadata": {},
   "outputs": [
    {
     "name": "stdout",
     "output_type": "stream",
     "text": [
      "model 3 Train\n",
      "loss: 0.2738984227180481\n",
      "model acc = 88.93349766731262\n"
     ]
    }
   ],
   "source": [
    "loss,acc = model3.evaluate(train_ds, verbose=0)\n",
    "print('model 3 Train')\n",
    "print(f'loss: {loss}')\n",
    "print(f'model acc = {100*acc}')"
   ]
  },
  {
   "cell_type": "code",
   "execution_count": 14,
   "metadata": {},
   "outputs": [
    {
     "name": "stdout",
     "output_type": "stream",
     "text": [
      "model 4 Test\n",
      "loss: 0.26579219102859497\n",
      "model acc = 89.36543464660645\n"
     ]
    }
   ],
   "source": [
    "loss,acc = model4.evaluate(val_ds, verbose=0)\n",
    "print('model 4 Test')\n",
    "print(f'loss: {loss}')\n",
    "print(f'model acc = {100*acc}')"
   ]
  },
  {
   "cell_type": "code",
   "execution_count": 15,
   "metadata": {},
   "outputs": [
    {
     "name": "stdout",
     "output_type": "stream",
     "text": [
      "model 4 Train\n",
      "loss: 0.2605745196342468\n",
      "model acc = 89.64570164680481\n"
     ]
    }
   ],
   "source": [
    "loss,acc = model4.evaluate(train_ds, verbose=0)\n",
    "print('model 4 Train')\n",
    "print(f'loss: {loss}')\n",
    "print(f'model acc = {100*acc}')"
   ]
  }
 ],
 "metadata": {
  "kernelspec": {
   "display_name": "Python 3",
   "language": "python",
   "name": "python3"
  },
  "language_info": {
   "codemirror_mode": {
    "name": "ipython",
    "version": 3
   },
   "file_extension": ".py",
   "mimetype": "text/x-python",
   "name": "python",
   "nbconvert_exporter": "python",
   "pygments_lexer": "ipython3",
   "version": "3.10.8"
  },
  "orig_nbformat": 4
 },
 "nbformat": 4,
 "nbformat_minor": 2
}
